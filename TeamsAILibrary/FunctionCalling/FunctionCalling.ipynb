{
 "cells": [
  {
   "cell_type": "markdown",
   "metadata": {},
   "source": [
    "# Function Calling with Custom Engine Agent\n"
   ]
  },
  {
   "cell_type": "markdown",
   "metadata": {},
   "source": [
    "### actions.json\n"
   ]
  },
  {
   "cell_type": "code",
   "execution_count": null,
   "metadata": {},
   "outputs": [],
   "source": [
    "[\n",
    "    {\n",
    "        \"name\": \"GetWeather\",\n",
    "        \"description\": \"Gets the weather information of a particular location that the user is interested in\",\n",
    "        \"parameters\": {\n",
    "            \"type\": \"object\",\n",
    "            \"properties\": {\n",
    "                \"location\": {\n",
    "                    \"type\": \"string\",\n",
    "                    \"description\": \"The location that the user wants to know the weather about\"\n",
    "                }\n",
    "            },\n",
    "            \"required\": [\n",
    "                \"location\"\n",
    "            ]\n",
    "        }\n",
    "    }\n",
    "]"
   ]
  },
  {
   "cell_type": "markdown",
   "metadata": {},
   "source": [
    "### config.json "
   ]
  },
  {
   "cell_type": "code",
   "execution_count": null,
   "metadata": {},
   "outputs": [],
   "source": [
    "{\n",
    "  \"schema\": 1.1,\n",
    "  \"description\": \"Chat with Teams AI Bot\",\n",
    "  \"type\": \"completion\",\n",
    "  \"completion\": {\n",
    "      \"completion_type\": \"chat\",\n",
    "      \"include_history\": true,\n",
    "      \"include_input\": true,\n",
    "      \"max_input_tokens\": 2800,\n",
    "      \"max_tokens\": 1000,\n",
    "      \"temperature\": 0.9,\n",
    "      \"top_p\": 0.0,\n",
    "      \"presence_penalty\": 0.6,\n",
    "      \"frequency_penalty\": 0.0,\n",
    "      \"stop_sequences\": []\n",
    "  },\n",
    "  \"augmentation\": {\n",
    "      \"augmentation_type\": \"monologue\"\n",
    "  }\n",
    "}"
   ]
  },
  {
   "cell_type": "markdown",
   "metadata": {},
   "source": [
    "### Include the following code in the bot.py file"
   ]
  },
  {
   "cell_type": "code",
   "execution_count": null,
   "metadata": {},
   "outputs": [],
   "source": [
    "@bot_app.ai.action(\"GetWeather\")\n",
    "async def get_weather(context: TurnContext, state: TurnState):\n",
    "     #calling open weather map API for information retrieval\n",
    "   #fetching latitude and longitude of the specific location respectively\n",
    "    location = str(context.data[\"location\"]) if context.data[\"location\"] else \"null\"\n",
    "    url = \"http://api.openweathermap.org/geo/1.0/direct?q=\" + location + \"&limit=1&appid=YOUR_API_KEY\"\n",
    "    response=requests.get(url)\n",
    "    get_response=response.json()\n",
    "    latitude=get_response[0]['lat']\n",
    "    longitude = get_response[0]['lon']\n",
    "\n",
    "    url_final = \"https://api.openweathermap.org/data/2.5/weather?lat=\" + str(latitude) + \"&lon=\" + str(longitude) + \"&appid=YOUR_API_KEY\"\n",
    "    final_response = requests.get(url_final)\n",
    "    final_response_json = final_response.json()\n",
    "    weather=final_response_json['weather'][0]['description']\n",
    "    print(weather)\n",
    "    await context.send_activity(f\"The weather in {location} is {weather}\")\n",
    "    return f\"successfully fetched weather in {location}\""
   ]
  }
 ],
 "metadata": {
  "language_info": {
   "name": "python"
  }
 },
 "nbformat": 4,
 "nbformat_minor": 2
}
